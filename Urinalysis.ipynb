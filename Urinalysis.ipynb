{
 "cells": [
  {
   "cell_type": "markdown",
   "id": "a01e4a7d",
   "metadata": {},
   "source": [
    "# Final Project: Decision Trees"
   ]
  },
  {
   "cell_type": "code",
   "execution_count": 31,
   "id": "90194232",
   "metadata": {},
   "outputs": [],
   "source": [
    "import pandas as pd\n",
    "\n",
    "data = pd.read_csv('urinalysis_tests.csv')\n",
    "\n",
    "#I didn't know what to do with these columns but we should implement these at some point\n",
    "data = data.drop(columns=['WBC', 'RBC'], axis=1)\n",
    "\n",
    "data['Diagnosis'] = data['Diagnosis'].map({'POSITIVE': 1, 'NEGATIVE': 0})\n",
    "data['Gender'] = data['Gender'].map({'MALE': 1, 'FEMALE': 0})\n",
    "\n",
    "#One-Hot Encoding\n",
    "#Idk if one-hot encoding everything is maybe bad cause of dimensionality\n",
    "data = pd.get_dummies(data, columns=['Color', 'Transparency', 'Glucose', 'Protein', 'Epithelial Cells', 'Mucous Threads', 'Amorphous Urates', 'Bacteria'])"
   ]
  },
  {
   "cell_type": "code",
   "execution_count": 35,
   "id": "d4b0b9a5",
   "metadata": {},
   "outputs": [
    {
     "name": "stdout",
     "output_type": "stream",
     "text": [
      "Accuracy: 0.9444444444444444\n"
     ]
    }
   ],
   "source": [
    "from sklearn.tree import DecisionTreeClassifier\n",
    "from sklearn.model_selection import train_test_split\n",
    "from sklearn.metrics import accuracy_score\n",
    "\n",
    "\n",
    "features = data.drop('Diagnosis', axis=1)\n",
    "diagnosis = data['Diagnosis']\n",
    "\n",
    "\n",
    "X_train, X_test, Y_train, Y_test = train_test_split(features, diagnosis, test_size=0.2, random_state=3)\n",
    "tree = DecisionTreeClassifier(random_state=3)\n",
    "tree.fit(X_train, Y_train)\n",
    "predictions = tree.predict(X_test)\n",
    "\n",
    "accuracy = accuracy_score(Y_test, predictions)\n",
    "print(\"Accuracy:\", accuracy)"
   ]
  },
  {
   "cell_type": "code",
   "execution_count": null,
   "id": "4f2ca12f",
   "metadata": {},
   "outputs": [],
   "source": []
  }
 ],
 "metadata": {
  "kernelspec": {
   "display_name": "Python 3 (ipykernel)",
   "language": "python",
   "name": "python3"
  },
  "language_info": {
   "codemirror_mode": {
    "name": "ipython",
    "version": 3
   },
   "file_extension": ".py",
   "mimetype": "text/x-python",
   "name": "python",
   "nbconvert_exporter": "python",
   "pygments_lexer": "ipython3",
   "version": "3.11.5"
  }
 },
 "nbformat": 4,
 "nbformat_minor": 5
}
