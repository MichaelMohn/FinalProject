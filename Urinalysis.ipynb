{
 "cells": [
  {
   "cell_type": "markdown",
   "id": "a01e4a7d",
   "metadata": {},
   "source": [
    "# Final Project\n",
    "Data Cleaning"
   ]
  },
  {
   "cell_type": "code",
   "execution_count": 87,
   "id": "90194232",
   "metadata": {},
   "outputs": [],
   "source": [
    "import pandas as pd\n",
    "\n",
    "data = pd.read_csv('urinalysis_tests.csv')\n",
    "\n",
    "#I didn't know what to do with these columns but we should implement these at some point\n",
    "data = data.drop(columns=['WBC', 'RBC'], axis=1)\n",
    "\n",
    "data['Diagnosis'] = data['Diagnosis'].map({'POSITIVE': 1, 'NEGATIVE': 0})\n",
    "data['Gender'] = data['Gender'].map({'MALE': 1, 'FEMALE': 0})\n",
    "\n",
    "#One-Hot Encoding\n",
    "#Idk if one-hot encoding everything is maybe bad cause of dimensionality\n",
    "data = pd.get_dummies(data, columns=['Color', 'Transparency', 'Glucose', 'Protein', 'Epithelial Cells', 'Mucous Threads', 'Amorphous Urates', 'Bacteria'])\n",
    "\n",
    "features = data.drop('Diagnosis', axis=1)\n",
    "diagnosis = data['Diagnosis']"
   ]
  },
  {
   "cell_type": "markdown",
   "id": "be7eadfd",
   "metadata": {},
   "source": [
    "Decision Tree"
   ]
  },
  {
   "cell_type": "code",
   "execution_count": 88,
   "id": "d4b0b9a5",
   "metadata": {},
   "outputs": [
    {
     "name": "stdout",
     "output_type": "stream",
     "text": [
      "Accuracy: 0.9097222222222222\n",
      "Precision: 0.058823529411764705\n",
      "Recall: 0.09090909090909091\n"
     ]
    }
   ],
   "source": [
    "from sklearn.tree import DecisionTreeClassifier\n",
    "from sklearn.model_selection import train_test_split\n",
    "from sklearn.metrics import accuracy_score\n",
    "from sklearn.metrics import precision_score, recall_score\n",
    "\n",
    "X_train, X_test, Y_train, Y_test = train_test_split(features, diagnosis, test_size=0.2, random_state=5)\n",
    "\n",
    "tree = DecisionTreeClassifier(random_state=5)\n",
    "tree.fit(X_train, Y_train)\n",
    "predictions = tree.predict(X_test)\n",
    "\n",
    "accuracy = accuracy_score(Y_test, predictions)\n",
    "print(\"Accuracy:\", accuracy)\n",
    "\n",
    "precision = precision_score(Y_test, predictions)\n",
    "print(\"Precision:\", precision)\n",
    "\n",
    "recall = recall_score(Y_test, predictions)\n",
    "print(\"Recall:\", recall)"
   ]
  },
  {
   "cell_type": "markdown",
   "id": "916350f9",
   "metadata": {},
   "source": [
    "# Clustering"
   ]
  },
  {
   "cell_type": "markdown",
   "id": "1b146832",
   "metadata": {},
   "source": [
    "Scale our Data"
   ]
  },
  {
   "cell_type": "code",
   "execution_count": 97,
   "id": "57dad6dd",
   "metadata": {},
   "outputs": [],
   "source": [
    "from sklearn.preprocessing import StandardScaler\n",
    "\n",
    "scaler = StandardScaler()\n",
    "data_scaled = scaler.fit_transform(features)"
   ]
  },
  {
   "cell_type": "markdown",
   "id": "33a69a21",
   "metadata": {},
   "source": [
    "K-Nearest Neighbors Clustering"
   ]
  },
  {
   "cell_type": "code",
   "execution_count": 106,
   "id": "90f4a489",
   "metadata": {},
   "outputs": [
    {
     "name": "stdout",
     "output_type": "stream",
     "text": [
      "Silhouette Score: 0.20545125303413\n"
     ]
    }
   ],
   "source": [
    "from sklearn.neighbors import KNeighborsClassifier\n",
    "from sklearn.preprocessing import StandardScaler\n",
    "from sklearn.metrics import silhouette_score\n",
    "\n",
    "knn = KNeighborsClassifier(5)\n",
    "\n",
    "knn.fit(data_scaled, diagnosis)\n",
    "knn_Clusters = knn.predict(data_scaled)\n",
    "\n",
    "knn_Silhouette = silhouette_score(data_scaled, knn_Clusters)\n",
    "\n",
    "print(\"Silhouette Score:\", knn_Silhouette)"
   ]
  },
  {
   "cell_type": "markdown",
   "id": "b9368b40",
   "metadata": {},
   "source": [
    "DBSCAN Clustering"
   ]
  },
  {
   "cell_type": "code",
   "execution_count": 91,
   "id": "4d48c237",
   "metadata": {},
   "outputs": [],
   "source": [
    "from sklearn.cluster import DBSCAN\n",
    "\n",
    "eps = 0.5\n",
    "minPts = 5\n",
    "dbscan = DBSCAN(eps=eps, min_samples=minPts)\n",
    "\n",
    "\n",
    "dbscan-clusters = dbscan.fit_predict(X_scaled)\n",
    "knn-silhouette = silhouette_score(X_scaled, knn-clusters)\n",
    "\n",
    "print(\"Silhouette Score:\", dbscan-silhouette)"
   ]
  },
  {
   "cell_type": "code",
   "execution_count": null,
   "id": "ebfeba00",
   "metadata": {},
   "outputs": [],
   "source": []
  }
 ],
 "metadata": {
  "kernelspec": {
   "display_name": "Python 3 (ipykernel)",
   "language": "python",
   "name": "python3"
  },
  "language_info": {
   "codemirror_mode": {
    "name": "ipython",
    "version": 3
   },
   "file_extension": ".py",
   "mimetype": "text/x-python",
   "name": "python",
   "nbconvert_exporter": "python",
   "pygments_lexer": "ipython3",
   "version": "3.11.5"
  }
 },
 "nbformat": 4,
 "nbformat_minor": 5
}
